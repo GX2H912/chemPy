{
 "cells": [
  {
   "cell_type": "code",
   "execution_count": 134,
   "metadata": {},
   "outputs": [],
   "source": [
    "from chempy import Compound, Equation, Element\n",
    "from math import prod\n",
    "import numpy as np\n",
    "from typing import Optional"
   ]
  },
  {
   "cell_type": "code",
   "execution_count": 135,
   "metadata": {},
   "outputs": [],
   "source": [
    "def get_k(rate: float, *conc_and_orders: tuple[float, int]):\n",
    "    return rate / prod(concentration ** order for concentration, order in conc_and_orders)"
   ]
  },
  {
   "cell_type": "code",
   "execution_count": 136,
   "metadata": {},
   "outputs": [],
   "source": [
    "def get_time_at_conc(order: int, k: float, initial: float, conc_at_time: float) -> float:\n",
    "    if not 0 <= order <= 2:\n",
    "        return -1\n",
    "    match order:\n",
    "        case 0:\n",
    "            return (conc_at_time - initial) / -k\n",
    "        case 1:\n",
    "            return np.log(initial / conc_at_time) / k\n",
    "        case 2:\n",
    "            return ((1/conc_at_time) - (1/initial)) / k"
   ]
  },
  {
   "cell_type": "code",
   "execution_count": 137,
   "metadata": {},
   "outputs": [],
   "source": [
    "def get_half_life_or_k(order: float, initial: Optional[float], k_or_hl: float) -> float:\n",
    "    if not 0 <= order <= 2:\n",
    "        return -1\n",
    "    if initial is None and order != 1:\n",
    "        return -1\n",
    "    match order:\n",
    "        case 0:\n",
    "            return initial / (2 * k_or_hl)\n",
    "        case 1:\n",
    "            return np.log(2) / k_or_hl\n",
    "        case 2:\n",
    "            return 1 / (k_or_hl * initial)\n",
    "    "
   ]
  },
  {
   "cell_type": "code",
   "execution_count": 138,
   "metadata": {},
   "outputs": [],
   "source": [
    "def time_given_half_life_and_conc(order: int, half_life: float, initial: float, conc_at_time: float) -> float:\n",
    "    if not 0 <= order <= 2:\n",
    "        return -1\n",
    "    k = get_half_life_or_k(order, initial, half_life)\n",
    "    if k == -1:\n",
    "        raise Exception('k not found')\n",
    "    return get_time_at_conc(order, k, initial, conc_at_time)"
   ]
  },
  {
   "cell_type": "code",
   "execution_count": 139,
   "metadata": {},
   "outputs": [],
   "source": [
    "def get_k_given_t(order: int, initial: float, time: float, conc_at_time: float) -> float:\n",
    "    return get_time_at_conc(order, time, initial, conc_at_time)"
   ]
  },
  {
   "cell_type": "code",
   "execution_count": 140,
   "metadata": {},
   "outputs": [],
   "source": [
    "def get_conc_at_time(order: int, k: float, initial: float, time: float) -> float:\n",
    "    if not 0 <= order <= 2:\n",
    "        return -1\n",
    "    match order:\n",
    "        case 0:\n",
    "            return -k * time + initial\n",
    "        case 1:\n",
    "            return initial / np.exp(k * time)\n",
    "        case 2:\n",
    "            return (k * time + (1 / initial)) ** -1"
   ]
  }
 ],
 "metadata": {
  "kernelspec": {
   "display_name": "Python 3.12.0 64-bit",
   "language": "python",
   "name": "python3"
  },
  "language_info": {
   "codemirror_mode": {
    "name": "ipython",
    "version": 3
   },
   "file_extension": ".py",
   "mimetype": "text/x-python",
   "name": "python",
   "nbconvert_exporter": "python",
   "pygments_lexer": "ipython3",
   "version": "3.12.0"
  },
  "orig_nbformat": 4,
  "vscode": {
   "interpreter": {
    "hash": "aee8b7b246df8f9039afb4144a1f6fd8d2ca17a180786b69acc140d282b71a49"
   }
  }
 },
 "nbformat": 4,
 "nbformat_minor": 2
}
