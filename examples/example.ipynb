{
 "cells": [
  {
   "cell_type": "code",
   "execution_count": 1,
   "metadata": {},
   "outputs": [],
   "source": [
    "from chempy import Compound, Equation, Element"
   ]
  },
  {
   "cell_type": "code",
   "execution_count": 3,
   "metadata": {},
   "outputs": [
    {
     "data": {
      "text/plain": [
       "24"
      ]
     },
     "execution_count": 3,
     "metadata": {},
     "output_type": "execute_result"
    }
   ],
   "source": [
    "Compound('CH3COOH').valence_electrons # example of retrieving valence electrons"
   ]
  },
  {
   "cell_type": "code",
   "execution_count": 4,
   "metadata": {},
   "outputs": [],
   "source": [
    "Ds = Element('Ds')"
   ]
  },
  {
   "cell_type": "code",
   "execution_count": 5,
   "metadata": {},
   "outputs": [
    {
     "data": {
      "text/plain": [
       "'1s^2 2s^2 2p^6 3s^2 3p^6 4s^2 3d^10 4p^6 5s^2 4d^10 5p^6 6s^2 4f^14 5d^10 6p^6 7s^2 5f^14 6d^8'"
      ]
     },
     "execution_count": 5,
     "metadata": {},
     "output_type": "execute_result"
    }
   ],
   "source": [
    "Ds.electron_configuration # example or retrieving electron configuration of Element."
   ]
  },
  {
   "cell_type": "code",
   "execution_count": 6,
   "metadata": {},
   "outputs": [
    {
     "data": {
      "text/plain": [
       "10"
      ]
     },
     "execution_count": 6,
     "metadata": {},
     "output_type": "execute_result"
    }
   ],
   "source": [
    "Ds.valence_electrons # example of retrieving valence electrons of Element."
   ]
  },
  {
   "cell_type": "code",
   "execution_count": 7,
   "metadata": {},
   "outputs": [
    {
     "data": {
      "text/plain": [
       "8"
      ]
     },
     "execution_count": 7,
     "metadata": {},
     "output_type": "execute_result"
    }
   ],
   "source": [
    "Compound('H2O').valence_electrons # example of retrieving valence electrons of Compound."
   ]
  },
  {
   "cell_type": "code",
   "execution_count": 8,
   "metadata": {},
   "outputs": [
    {
     "data": {
      "text/plain": [
       "68.072"
      ]
     },
     "execution_count": 8,
     "metadata": {},
     "output_type": "execute_result"
    }
   ],
   "source": [
    "Compound('HC3OCH3').molar_mass # example of retrieving molar mass of Compound."
   ]
  },
  {
   "cell_type": "code",
   "execution_count": 9,
   "metadata": {},
   "outputs": [],
   "source": [
    "line = 'K4Fe(CN)6 + K[(MnO4)15]2 + H2SO4 = KHSO4 + Fe2(SO4)3 + MnSO4 + HNO3 + CO2 + H2O'"
   ]
  },
  {
   "cell_type": "code",
   "execution_count": 10,
   "metadata": {},
   "outputs": [
    {
     "data": {
      "text/latex": [
       "$\\text{358}(\\text{K}_{4}\\text{F}\\text{e}\\text{(}\\text{C}\\text{N}\\text{)}_{6}) + \\text{122}(\\text{K}\\text{[}\\text{(}\\text{M}\\text{n}\\text{O}_{4}\\text{)}_{15}\\text{]}_{2}) + \\text{5,751}(\\text{H}_{2}\\text{S}\\text{O}_{4}) → \\text{1,554}(\\text{K}\\text{H}\\text{S}\\text{O}_{4}) + \\text{179}(\\text{F}\\text{e}_{2}\\text{(}\\text{S}\\text{O}_{4}\\text{)}_{3}) + \\text{3,660}(\\text{M}\\text{n}\\text{S}\\text{O}_{4}) + \\text{2,148}(\\text{H}\\text{N}\\text{O}_{3}) + \\text{2,148}(\\text{C}\\text{O}_{2}) + \\text{3,900}(\\text{H}_{2}\\text{O})$"
      ],
      "text/plain": [
       "358(K4Fe(CN)6) + 122(K[(MnO4)15]2) + 5,751(H2SO4) → 1,554(KHSO4) + 179(Fe2(SO4)3) + 3,660(MnSO4) + 2,148(HNO3) + 2,148(CO2) + 3,900(H2O)"
      ]
     },
     "execution_count": 10,
     "metadata": {},
     "output_type": "execute_result"
    }
   ],
   "source": [
    "equation = Equation.parse_from_string(line)\n",
    "equation.balance()\n",
    "equation"
   ]
  }
 ],
 "metadata": {
  "kernelspec": {
   "display_name": "Python 3.11.5 64-bit",
   "language": "python",
   "name": "python3"
  },
  "language_info": {
   "codemirror_mode": {
    "name": "ipython",
    "version": 3
   },
   "file_extension": ".py",
   "mimetype": "text/x-python",
   "name": "python",
   "nbconvert_exporter": "python",
   "pygments_lexer": "ipython3",
   "version": "3.12.0"
  },
  "vscode": {
   "interpreter": {
    "hash": "aee8b7b246df8f9039afb4144a1f6fd8d2ca17a180786b69acc140d282b71a49"
   }
  }
 },
 "nbformat": 4,
 "nbformat_minor": 2
}
