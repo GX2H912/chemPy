{
 "cells": [
  {
   "cell_type": "code",
   "execution_count": 1,
   "metadata": {},
   "outputs": [],
   "source": [
    "from chempy import Compound, Equation, Element"
   ]
  },
  {
   "cell_type": "code",
   "execution_count": 21,
   "metadata": {},
   "outputs": [
    {
     "ename": "KeyError",
     "evalue": "'CH3NCO'",
     "output_type": "error",
     "traceback": [
      "\u001b[0;31m---------------------------------------------------------------------------\u001b[0m",
      "\u001b[0;31mKeyError\u001b[0m                                  Traceback (most recent call last)",
      "Cell \u001b[0;32mIn[21], line 1\u001b[0m\n\u001b[0;32m----> 1\u001b[0m \u001b[43mElement\u001b[49m\u001b[43m(\u001b[49m\u001b[38;5;124;43m'\u001b[39;49m\u001b[38;5;124;43mCH3NCO\u001b[39;49m\u001b[38;5;124;43m'\u001b[39;49m\u001b[43m)\u001b[49m\u001b[38;5;241m.\u001b[39mvalence_electrons \u001b[38;5;66;03m# example of retrieving valence electrons.\u001b[39;00m\n",
      "File \u001b[0;32m~/Desktop/Coding Activities/No Computer Science/chemPy/chempy/element.py:10\u001b[0m, in \u001b[0;36mElement.__init__\u001b[0;34m(self, symbol, mass)\u001b[0m\n\u001b[1;32m      8\u001b[0m \u001b[39massert\u001b[39;00m \u001b[39misinstance\u001b[39m(symbol, \u001b[39mstr\u001b[39m)\n\u001b[1;32m      9\u001b[0m \u001b[39mself\u001b[39m\u001b[39m.\u001b[39msymbol \u001b[39m=\u001b[39m symbol\n\u001b[0;32m---> 10\u001b[0m \u001b[39mself\u001b[39m\u001b[39m.\u001b[39mmolar_mass \u001b[39m=\u001b[39m \u001b[39mfloat\u001b[39m(ELEMENT_ITEMS[\u001b[39mself\u001b[39;49m\u001b[39m.\u001b[39;49msymbol])\n\u001b[1;32m     11\u001b[0m \u001b[39mself\u001b[39m\u001b[39m.\u001b[39mprotons \u001b[39m=\u001b[39m ELEMENT_PROTON_DATA[\u001b[39mself\u001b[39m\u001b[39m.\u001b[39msymbol]\n\u001b[1;32m     12\u001b[0m \u001b[39mself\u001b[39m\u001b[39m.\u001b[39me_cfg \u001b[39m=\u001b[39m get_electron_config(\u001b[39mself\u001b[39m\u001b[39m.\u001b[39mprotons)\n",
      "\u001b[0;31mKeyError\u001b[0m: 'CH3NCO'"
     ]
    }
   ],
   "source": [
    "Compound('CH3NCO').valence_electrons # example of retrieving valence electrons."
   ]
  },
  {
   "cell_type": "code",
   "execution_count": 3,
   "metadata": {},
   "outputs": [
    {
     "name": "stdout",
     "output_type": "stream",
     "text": [
      "68.072\n"
     ]
    }
   ],
   "source": [
    "print(Compound('HC3OCH3').molar_mass) # example of retrieving molar mass."
   ]
  },
  {
   "cell_type": "code",
   "execution_count": 3,
   "metadata": {},
   "outputs": [],
   "source": [
    "line = 'K4Fe(CN)6 + K[(MnO4)15]2 + H2SO4 = KHSO4 + Fe2(SO4)3 + MnSO4 + HNO3 + CO2 + H2O'"
   ]
  },
  {
   "cell_type": "code",
   "execution_count": 6,
   "metadata": {},
   "outputs": [
    {
     "data": {
      "text/latex": [
       "$\\text{358}(\\text{K}_{4}\\text{F}\\text{e}\\text{(}\\text{C}\\text{N}\\text{)}_{6}) + \\text{122}(\\text{K}\\text{[}\\text{(}\\text{M}\\text{n}\\text{O}_{4}\\text{)}_{15}\\text{]}_{2}) + \\text{5,751}(\\text{H}_{2}\\text{S}\\text{O}_{4}) → \\text{1,554}(\\text{K}\\text{H}\\text{S}\\text{O}_{4}) + \\text{179}(\\text{F}\\text{e}_{2}\\text{(}\\text{S}\\text{O}_{4}\\text{)}_{3}) + \\text{3,660}(\\text{M}\\text{n}\\text{S}\\text{O}_{4}) + \\text{2,148}(\\text{H}\\text{N}\\text{O}_{3}) + \\text{2,148}(\\text{C}\\text{O}_{2}) + \\text{3,900}(\\text{H}_{2}\\text{O})$"
      ],
      "text/plain": [
       "358(K4Fe(CN)6) + 122(K[(MnO4)15]2) + 5,751(H2SO4) → 1,554(KHSO4) + 179(Fe2(SO4)3) + 3,660(MnSO4) + 2,148(HNO3) + 2,148(CO2) + 3,900(H2O)"
      ]
     },
     "execution_count": 6,
     "metadata": {},
     "output_type": "execute_result"
    }
   ],
   "source": [
    "equation = Equation.parse_from_string(line)\n",
    "equation.balance()\n",
    "equation"
   ]
  }
 ],
 "metadata": {
  "kernelspec": {
   "display_name": "Python 3.11.5 64-bit",
   "language": "python",
   "name": "python3"
  },
  "language_info": {
   "codemirror_mode": {
    "name": "ipython",
    "version": 3
   },
   "file_extension": ".py",
   "mimetype": "text/x-python",
   "name": "python",
   "nbconvert_exporter": "python",
   "pygments_lexer": "ipython3",
   "version": "3.12.0"
  },
  "vscode": {
   "interpreter": {
    "hash": "aee8b7b246df8f9039afb4144a1f6fd8d2ca17a180786b69acc140d282b71a49"
   }
  }
 },
 "nbformat": 4,
 "nbformat_minor": 2
}
