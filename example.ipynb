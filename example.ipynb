{
 "cells": [
  {
   "cell_type": "code",
   "execution_count": 1,
   "metadata": {},
   "outputs": [],
   "source": [
    "import chempy as cmp"
   ]
  },
  {
   "cell_type": "code",
   "execution_count": 10,
   "metadata": {},
   "outputs": [
    {
     "name": "stdout",
     "output_type": "stream",
     "text": [
      "24\n"
     ]
    }
   ],
   "source": [
    "print(cmp.Compound('AlCl3').valence_electrons) ## example of retrieving valence electrons."
   ]
  },
  {
   "cell_type": "code",
   "execution_count": 10,
   "metadata": {},
   "outputs": [
    {
     "name": "stdout",
     "output_type": "stream",
     "text": [
      "68.072\n"
     ]
    }
   ],
   "source": [
    "print(cmp.Compound('HC3OCH3').molar_mass) ## example of retrieving molar mass."
   ]
  },
  {
   "cell_type": "code",
   "execution_count": 11,
   "metadata": {},
   "outputs": [],
   "source": [
    "line = 'K4Fe(CN)6 + K[(MnO4)15]2 + H2SO4 = KHSO4 + Fe2(SO4)3 + MnSO4 + HNO3 + CO2 + H2O'"
   ]
  },
  {
   "cell_type": "code",
   "execution_count": 12,
   "metadata": {},
   "outputs": [],
   "source": [
    "reactants = [cmp.Compound(reactant) for reactant in line.split('=')[0].split('+')]\n",
    "products = [cmp.Compound(product) for product in line.split('=')[1].split('+')]"
   ]
  },
  {
   "cell_type": "code",
   "execution_count": 13,
   "metadata": {},
   "outputs": [
    {
     "data": {
      "text/latex": [
       "$\\text{358}(\\text{K}_{4}\\text{F}\\text{e}\\text{(}\\text{C}\\text{N}\\text{)}_{6}) + \\text{122}(\\text{K}\\text{[}\\text{(}\\text{M}\\text{n}\\text{O}_{4}\\text{)}_{15}\\text{]}_{2}) + \\text{5,751}(\\text{H}_{2}\\text{S}\\text{O}_{4}) → \\text{1,554}(\\text{K}\\text{H}\\text{S}\\text{O}_{4}) + \\text{179}(\\text{F}\\text{e}_{2}\\text{(}\\text{S}\\text{O}_{4}\\text{)}_{3}) + \\text{3,660}(\\text{M}\\text{n}\\text{S}\\text{O}_{4}) + \\text{2,148}(\\text{H}\\text{N}\\text{O}_{3}) + \\text{2,148}(\\text{C}\\text{O}_{2}) + \\text{3,900}(\\text{H}_{2}\\text{O})$"
      ],
      "text/plain": [
       "358(K4Fe(CN)6) + 122(K[(MnO4)15]2) + 5,751(H2SO4) → 1,554(KHSO4) + 179(Fe2(SO4)3) + 3,660(MnSO4) + 2,148(HNO3) + 2,148(CO2) + 3,900(H2O)"
      ]
     },
     "execution_count": 13,
     "metadata": {},
     "output_type": "execute_result"
    }
   ],
   "source": [
    "equation = cmp.Equation(reactants, products)\n",
    "equation.balance()\n",
    "equation"
   ]
  }
 ],
 "metadata": {
  "kernelspec": {
   "display_name": "Python 3",
   "language": "python",
   "name": "python3"
  },
  "language_info": {
   "codemirror_mode": {
    "name": "ipython",
    "version": 3
   },
   "file_extension": ".py",
   "mimetype": "text/x-python",
   "name": "python",
   "nbconvert_exporter": "python",
   "pygments_lexer": "ipython3",
   "version": "3.12.0"
  }
 },
 "nbformat": 4,
 "nbformat_minor": 2
}
