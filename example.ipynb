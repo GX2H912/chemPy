{
 "cells": [
  {
   "cell_type": "code",
   "execution_count": 9,
   "metadata": {},
   "outputs": [],
   "source": [
    "import chempy as cmp"
   ]
  },
  {
   "cell_type": "code",
   "execution_count": 10,
   "metadata": {},
   "outputs": [],
   "source": [
    "line = 'Ba2XeO6 + H2SO4 = BaSO4 + H2O + XeO4'"
   ]
  },
  {
   "cell_type": "code",
   "execution_count": 11,
   "metadata": {},
   "outputs": [],
   "source": [
    "reactants = [cmp.Compound(reactant) for reactant in line.split('=')[0].split('+')]\n",
    "products = [cmp.Compound(product) for product in line.split('=')[1].split('+')]"
   ]
  },
  {
   "cell_type": "code",
   "execution_count": 12,
   "metadata": {},
   "outputs": [
    {
     "data": {
      "text/latex": [
       "$Ba_{2}XeO_{6}  + 2( H_{2}SO_{4} ) → 2( BaSO_{4} ) + 2( H_{2}O ) +  XeO_{4}$"
      ],
      "text/plain": [
       "Ba2XeO6 + 2(H2SO4) → 2(BaSO4) + 2(H2O) + XeO4"
      ]
     },
     "execution_count": 12,
     "metadata": {},
     "output_type": "execute_result"
    }
   ],
   "source": [
    "equation = cmp.Equation(reactants, products)\n",
    "equation.balance()\n",
    "equation"
   ]
  }
 ],
 "metadata": {
  "kernelspec": {
   "display_name": "Python 3",
   "language": "python",
   "name": "python3"
  },
  "language_info": {
   "codemirror_mode": {
    "name": "ipython",
    "version": 3
   },
   "file_extension": ".py",
   "mimetype": "text/x-python",
   "name": "python",
   "nbconvert_exporter": "python",
   "pygments_lexer": "ipython3",
   "version": "3.12.0"
  }
 },
 "nbformat": 4,
 "nbformat_minor": 2
}
